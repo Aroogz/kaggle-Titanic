{
 "cells": [
  {
   "cell_type": "code",
   "execution_count": 9,
   "metadata": {},
   "outputs": [],
   "source": [
    "import os\n",
    "from urllib.request import urlretrieve\n",
    "\n",
    "def get_data(filename=None, url=None, force_download=False):\n",
    "    filename = url.split('/')[-1]\n",
    "    if force_download or not os.path.exists(filename):\n",
    "        urlretrieve(url, filename)"
   ]
  },
  {
   "cell_type": "code",
   "execution_count": 14,
   "metadata": {},
   "outputs": [],
   "source": [
    "url_gender_sub = \"https://www.kaggle.com/c/titanic/download/gender_submission.csv\"\n",
    "url_test = \"https://www.kaggle.com/c/titanic/download/test.csv\"\n",
    "url_train = \"https://www.kaggle.com/c/titanic/download/train.csv\"\n",
    "\n",
    "urls = [url_gender_sub, url_test, url_train]\n",
    "\n",
    "for url in urls:\n",
    "    get_data(url=url)"
   ]
  },
  {
   "cell_type": "code",
   "execution_count": null,
   "metadata": {},
   "outputs": [],
   "source": [
    "dt_"
   ]
  }
 ],
 "metadata": {
  "kernelspec": {
   "display_name": "Python 3",
   "language": "python",
   "name": "python3"
  },
  "language_info": {
   "codemirror_mode": {
    "name": "ipython",
    "version": 3
   },
   "file_extension": ".py",
   "mimetype": "text/x-python",
   "name": "python",
   "nbconvert_exporter": "python",
   "pygments_lexer": "ipython3",
   "version": "3.6.3"
  }
 },
 "nbformat": 4,
 "nbformat_minor": 2
}
